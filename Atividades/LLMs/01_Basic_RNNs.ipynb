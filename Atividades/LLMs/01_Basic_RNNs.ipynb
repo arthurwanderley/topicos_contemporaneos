{
  "cells": [
    {
      "cell_type": "markdown",
      "source": [
        "### Equipe:\n",
        "\n",
        "Arthur Wanderley Ferreira dos Santos - awfs@cesar.school\n",
        "\n",
        "Thiago Wanderley Amorim - twa@cesar.school"
      ],
      "metadata": {
        "id": "TqSgF9h44_kA"
      }
    },
    {
      "cell_type": "markdown",
      "metadata": {
        "id": "kASmaqLy48uw"
      },
      "source": [
        "### **Redes Neurais Recorrentes (RNNs)**\n",
        "\n",
        "As Redes Neurais Recorrentes (RNNs) são um tipo de rede neural projetada para processar sequências de dados, como séries temporais ou textos. A principal característica das RNNs é a capacidade de manter um estado interno que captura informações sobre as entradas anteriores, permitindo que a rede tenha \"memória\" dos passos anteriores na sequência.\n",
        "\n",
        "A cada passo de tempo $t$, a RNN atualiza seu estado oculto $h_t$ com base na entrada atual $x_t$ e no estado oculto anterior $h_{t-1}$:\n",
        "\n",
        "$$\n",
        "h_t = \\tanh(W_{ih} \\cdot x_t + W_{hh} \\cdot h_{t-1} + b_h)\n",
        "$$\n",
        "\n",
        "Aqui:\n",
        "- $W_{ih}$ é a matriz de pesos que conecta a entrada ao estado oculto.\n",
        "- $W_{hh}$ é a matriz de pesos que conecta o estado oculto anterior ao atual.\n",
        "- $b_h$ é o termo de bias.\n",
        "- $\\tanh$ é a função de ativação que introduz não-linearidade."
      ]
    },
    {
      "cell_type": "code",
      "execution_count": 1,
      "metadata": {
        "id": "p9p25kvM48ux"
      },
      "outputs": [],
      "source": [
        "import torch\n",
        "import torch.nn as nn\n",
        "import torch.optim as optim\n",
        "import numpy as np\n",
        "import matplotlib.pyplot as plt"
      ]
    },
    {
      "cell_type": "markdown",
      "metadata": {
        "id": "WKP_NQsy48uy"
      },
      "source": [
        "### **Implementação de uma Célula RNN**\n",
        "\n",
        "Nesta seção, implementaremos uma célula RNN personalizada usando o PyTorch. A célula RNN é a unidade básica de uma RNN, responsável por calcular o novo estado oculto com base na entrada atual e no estado oculto anterior.\n",
        "\n",
        "#### **Explicação do Código**\n",
        "\n",
        "O código a seguir define uma célula RNN personalizada:\n",
        "\n",
        "- **Entrada:** O tamanho da entrada `input_size` e o tamanho do estado oculto `hidden_size`.\n",
        "- **Pesos:** $ W_{ih} $ e $ W_{hh} $ são as matrizes de pesos, e $ b_h $ é o bias.\n",
        "- **Saída:** A célula computa o novo estado oculto $ h_t $ a partir da entrada e do estado oculto anterior."
      ]
    },
    {
      "cell_type": "code",
      "execution_count": 2,
      "metadata": {
        "id": "dutkxMEn48uy"
      },
      "outputs": [],
      "source": [
        "class RNNCell(nn.Module):\n",
        "    def __init__(self, input_size, hidden_size):\n",
        "        super().__init__()\n",
        "        self.input_size = input_size\n",
        "        self.hidden_size = hidden_size\n",
        "\n",
        "        self.W_ih = nn.Linear(input_size, hidden_size, bias=False) # Define a matriz de pesos de entrada\n",
        "        self.W_hh = nn.Linear(hidden_size, hidden_size, bias=False) # Define a matriz de pesos de saída\n",
        "        self.b_h = nn.Parameter(torch.zeros(hidden_size)) # Define o bias\n",
        "\n",
        "    def forward(self, x, h):\n",
        "        # x: (batch_size, input_size)\n",
        "        # h: (batch_size, hidden_size)\n",
        "        ht = torch.tanh(self.W_ih(x) + self.W_hh(h) + self.b_h)\n",
        "        return ht"
      ]
    },
    {
      "cell_type": "markdown",
      "metadata": {
        "id": "QwN6w1Rc48uy"
      },
      "source": [
        "### **Exemplo de Uso da Célula RNN**\n",
        "\n",
        "Inicialmente, definimos uma célula RNN com um tamanho de entrada de 10 e um tamanho de estado oculto de 4."
      ]
    },
    {
      "cell_type": "code",
      "execution_count": 3,
      "metadata": {
        "id": "hK9teo2648uy"
      },
      "outputs": [],
      "source": [
        "# Exemplo\n",
        "input_size = 10\n",
        "hidden_size = 4\n",
        "\n",
        "rnn_cell = RNNCell(input_size, hidden_size)"
      ]
    },
    {
      "cell_type": "markdown",
      "metadata": {
        "id": "jjrzfto-48uy"
      },
      "source": [
        "### **Inspeção dos Parâmetros da Célula RNN**\n",
        "\n",
        "Neste trecho de código, vamos inspecionar os parâmetros da célula RNN que acabamos de definir. Em uma rede neural, os parâmetros são os valores ajustáveis (como os pesos e bias) que a rede aprende durante o treinamento.\n",
        "\n",
        "Ao executar o código, veremos os nomes e as formas dos parâmetros:\n",
        "\n",
        "- **`W_ih`**: Matriz de pesos conectando a entrada ao estado oculto.\n",
        "- **`W_hh`**: Matriz de pesos conectando o estado oculto anterior ao atual.\n",
        "- **`b_h`**: Termo de bias para o estado oculto."
      ]
    },
    {
      "cell_type": "code",
      "execution_count": 4,
      "metadata": {
        "id": "vz-fI0Jh48uy",
        "colab": {
          "base_uri": "https://localhost:8080/"
        },
        "outputId": "fcb7f3b3-13d5-4a1b-86fa-057fc03760b0"
      },
      "outputs": [
        {
          "output_type": "stream",
          "name": "stdout",
          "text": [
            "b_h torch.Size([4])\n",
            "W_ih.weight torch.Size([4, 10])\n",
            "W_hh.weight torch.Size([4, 4])\n"
          ]
        }
      ],
      "source": [
        "for name, param in rnn_cell.named_parameters():\n",
        "    print(name, param.shape)"
      ]
    },
    {
      "cell_type": "markdown",
      "metadata": {
        "id": "SLQInA0o48uy"
      },
      "source": [
        "#### **Explicação do Código**\n",
        "\n",
        "No exemplo abaixo:\n",
        "- Inicializamos uma entrada $x$ aleatória e um estado oculto inicial $h$ como zero.\n",
        "- A célula RNN processa a entrada e gera um novo estado oculto."
      ]
    },
    {
      "cell_type": "code",
      "execution_count": 5,
      "metadata": {
        "id": "VEapdZgf48uy",
        "colab": {
          "base_uri": "https://localhost:8080/"
        },
        "outputId": "1e18062d-44df-4341-85c3-1a55d0518a4f"
      },
      "outputs": [
        {
          "output_type": "execute_result",
          "data": {
            "text/plain": [
              "torch.Size([4])"
            ]
          },
          "metadata": {},
          "execution_count": 5
        }
      ],
      "source": [
        "x = torch.randn(input_size)\n",
        "h = torch.zeros(hidden_size)\n",
        "\n",
        "hn = rnn_cell(x, h)\n",
        "\n",
        "hn.shape"
      ]
    },
    {
      "cell_type": "markdown",
      "metadata": {
        "id": "d2J8k70Q48uz"
      },
      "source": [
        "### **Processamento de Sequências com RNN**\n",
        "\n",
        "RNNs são projetadas para processar sequências de dados, onde cada passo de tempo depende dos passos anteriores. Vamos demonstrar isso processando uma sequência de entradas com a célula RNN.\n",
        "\n",
        "#### **Explicação do Código**\n",
        "\n",
        "Neste exemplo:\n",
        "- Processamos uma sequência de 3 entradas $x$ e atualizamos o estado oculto $h$ a cada passo.\n",
        "- O estado oculto é propagado ao longo da sequência, capturando informações temporais."
      ]
    },
    {
      "cell_type": "code",
      "execution_count": 6,
      "metadata": {
        "id": "Msz5gLma48uz",
        "colab": {
          "base_uri": "https://localhost:8080/"
        },
        "outputId": "766d808d-a094-4dd9-a276-e70318696406"
      },
      "outputs": [
        {
          "output_type": "stream",
          "name": "stdout",
          "text": [
            "Passo 1\n",
            "h = tensor([-0.3711,  0.5443, -0.7287, -0.7739], grad_fn=<TanhBackward0>)\n",
            "\n",
            "Passo 2\n",
            "h = tensor([ 0.4059, -0.5623, -0.7170,  0.4634], grad_fn=<TanhBackward0>)\n",
            "\n",
            "Passo 3\n",
            "h = tensor([-0.1770,  0.1274, -0.5378, -0.7074], grad_fn=<TanhBackward0>)\n",
            "\n"
          ]
        }
      ],
      "source": [
        "# Sequences\n",
        "seq_len = 3\n",
        "\n",
        "x = torch.randn(seq_len, input_size)\n",
        "h = torch.zeros(hidden_size)\n",
        "\n",
        "# Para cada instante de tempo\n",
        "for i in range(seq_len):\n",
        "    # Atualiza o estado oculto\n",
        "    h = rnn_cell(x[i], h)\n",
        "    print(f\"Passo {i+1}\")\n",
        "    print(f\"h = {h}\")\n",
        "    print()"
      ]
    },
    {
      "cell_type": "markdown",
      "metadata": {
        "id": "11bVVhfP48uz"
      },
      "source": [
        "### **Processamento de Sequências em Lote (Batched RNN)**\n",
        "\n",
        "Para aumentar a eficiência, as RNNs podem processar várias sequências simultaneamente, usando o conceito de \"batching\". Cada sequência no lote é processada de forma independente, mas compartilhando os mesmos pesos da RNN.\n",
        "\n",
        "#### **Explicação do Código**\n",
        "\n",
        "Neste exemplo:\n",
        "- Criamos um batch de 8 sequências, cada uma com 10 entradas.\n",
        "- A célula RNN é aplicada ao batch, atualizando o estado oculto para cada sequência de forma paralela."
      ]
    },
    {
      "cell_type": "code",
      "execution_count": 7,
      "metadata": {
        "id": "BBDPW8ZV48uz",
        "colab": {
          "base_uri": "https://localhost:8080/"
        },
        "outputId": "b2c4064f-aa2e-466a-a1eb-37549e0ea2d9"
      },
      "outputs": [
        {
          "output_type": "execute_result",
          "data": {
            "text/plain": [
              "torch.Size([8, 4])"
            ]
          },
          "metadata": {},
          "execution_count": 7
        }
      ],
      "source": [
        "# Batched RNN\n",
        "batch_size = 8\n",
        "\n",
        "x = torch.randn(batch_size, input_size)\n",
        "h = torch.zeros(batch_size, hidden_size)\n",
        "\n",
        "hn = rnn_cell(x, h)\n",
        "\n",
        "hn.shape"
      ]
    },
    {
      "cell_type": "markdown",
      "metadata": {
        "id": "Qez0KQ3J48uz"
      },
      "source": [
        "### **Processamento de Sequências em Lote com Múltiplos Passos de Tempo**\n",
        "\n",
        "Aqui, processamos um batch de sequências ao longo de vários passos de tempo.\n",
        "\n",
        "#### **Explicação do Código**\n",
        "\n",
        "Neste exemplo:\n",
        "- Processamos um lote de 8 sequências, cada uma com 3 passos de tempo.\n",
        "- Em cada passo de tempo, a célula RNN atualiza o estado oculto para todas as sequências do lote."
      ]
    },
    {
      "cell_type": "code",
      "execution_count": 8,
      "metadata": {
        "id": "x70nBkhy48uz",
        "colab": {
          "base_uri": "https://localhost:8080/"
        },
        "outputId": "f01aa622-0147-4ecf-ccff-f7f2df31e2ea"
      },
      "outputs": [
        {
          "output_type": "stream",
          "name": "stdout",
          "text": [
            "Passo 0\n",
            "h = torch.Size([8, 4])\n",
            "\n",
            "Passo 1\n",
            "h = torch.Size([8, 4])\n",
            "\n",
            "Passo 2\n",
            "h = torch.Size([8, 4])\n",
            "\n"
          ]
        }
      ],
      "source": [
        "# Sequences\n",
        "seq_len = 3\n",
        "\n",
        "x = torch.randn(batch_size, seq_len, input_size)\n",
        "h = torch.zeros(batch_size, hidden_size)\n",
        "\n",
        "# Para cada instante de tempo\n",
        "for i in range(seq_len):\n",
        "    # Atualiza o estado oculto\n",
        "    h = rnn_cell(x[:, i], h)\n",
        "    print(f\"Passo {i}\")\n",
        "    print(f\"h = {h.shape}\")\n",
        "    print()"
      ]
    },
    {
      "cell_type": "markdown",
      "metadata": {
        "id": "3W1YkE1D48uz"
      },
      "source": [
        "### **Construção de uma Rede RNN Completa**\n",
        "\n",
        "Vamos expandir a célula RNN que criamos anteriormente para uma rede RNN completa. A rede RNN será composta por uma célula RNN seguida por uma camada linear que produzirá a saída final.\n",
        "\n",
        "#### **Explicação do Código**\n",
        "\n",
        "- **`self.cell`**: Instância da célula RNN que processará cada passo da sequência.\n",
        "- **`self.W_ho`**: Camada linear que mapeia o estado oculto final para a saída desejada.\n",
        "\n",
        "No método `forward`:\n",
        "- **Entrada (`x`)**: Um tensor de forma `(batch_size, seq_len, input_size)`, onde `seq_len` é o comprimento da sequência.\n",
        "- **Estado oculto (`h`)**: Se não for fornecido, é inicializado como um vetor de zeros.\n",
        "- **Processamento da sequência**: A entrada é processada passo a passo pela célula RNN.\n",
        "- **Saída (`y`)**: Calculada pela camada linear a partir do estado oculto final."
      ]
    },
    {
      "cell_type": "code",
      "execution_count": 9,
      "metadata": {
        "id": "s2E8wHSk48uz"
      },
      "outputs": [],
      "source": [
        "class RNN(nn.Module):\n",
        "    def __init__(self, input_size, hidden_size, output_size):\n",
        "        super().__init__()\n",
        "        self.input_size = input_size\n",
        "        self.hidden_size = hidden_size\n",
        "        self.output_size = output_size\n",
        "\n",
        "        self.cell = RNNCell(input_size, hidden_size) # Define a célula RNN\n",
        "        self.W_ho = nn.Linear(hidden_size, output_size) # Define a matriz de pesos de saída\n",
        "\n",
        "    def forward(self, x, h=None):\n",
        "        # x: (batch_size, seq_len, input_size)\n",
        "        batch_size, seq_len, _ = x.size()\n",
        "\n",
        "        # h: (batch_size, hidden_size)\n",
        "        if h is None:\n",
        "            h = torch.zeros(batch_size, self.hidden_size)\n",
        "        h = h.to(x.device)\n",
        "\n",
        "        # Processa a sequência\n",
        "        for i in range(seq_len):\n",
        "            h = self.cell(x[:, i], h)\n",
        "\n",
        "        # Calcula a saída\n",
        "        y = self.W_ho(h)\n",
        "        return y"
      ]
    },
    {
      "cell_type": "markdown",
      "metadata": {
        "id": "OR460jxp48uz"
      },
      "source": [
        "### **Geração de Dados para Treinamento**\n",
        "\n",
        "Para treinar a RNN, precisamos de um conjunto de dados sequenciais. Neste exemplo, geramos uma série temporal baseada em uma função senoide com ruído adicionado.\n",
        "\n",
        "#### **Explicação do Código**\n",
        "\n",
        "- **`x`**: Sequência de pontos no intervalo $[0, 6\\pi]$.\n",
        "- **`y`**: Valores da função senoide com ruído gaussiano adicionado."
      ]
    },
    {
      "cell_type": "code",
      "execution_count": 10,
      "metadata": {
        "id": "oFy9MOyo48uz",
        "colab": {
          "base_uri": "https://localhost:8080/",
          "height": 430
        },
        "outputId": "751c6fbc-3183-4aa5-e120-88bfab86bcb7"
      },
      "outputs": [
        {
          "output_type": "display_data",
          "data": {
            "text/plain": [
              "<Figure size 640x480 with 1 Axes>"
            ],
            "image/png": "[encoded data removed]"
          },
          "metadata": {}
        }
      ],
      "source": [
        "num_points = 100\n",
        "\n",
        "x = np.linspace(0, 6*np.pi, num_points)\n",
        "y = np.sin(x) + np.random.normal(0, 0.3, num_points)\n",
        "\n",
        "plt.scatter(x, y)\n",
        "plt.show()"
      ]
    },
    {
      "cell_type": "markdown",
      "metadata": {
        "id": "rWZnkhh848uz"
      },
      "source": [
        "### **Preparação das Sequências de Treinamento**\n",
        "\n",
        "Agora, preparamos as entradas e as saídas alvo para o treinamento da RNN. Cada sequência de entrada será usada para prever o próximo ponto na série temporal.\n",
        "\n",
        "#### **Explicação do Código**\n",
        "\n",
        "- **`sequence_length`**: O comprimento da janela da sequência usada como entrada.\n",
        "- **`inputs`**: Sequências de tamanho `sequence_length` extraídas dos dados.\n",
        "- **`targets`**: O ponto subsequente na sequência que a rede deve prever.\n",
        "- **Tensorização**: As sequências são convertidas em tensores PyTorch para uso na rede neural."
      ]
    },
    {
      "cell_type": "code",
      "execution_count": 11,
      "metadata": {
        "id": "CtM-AaZY48uz",
        "colab": {
          "base_uri": "https://localhost:8080/"
        },
        "outputId": "4b534a9d-fd61-484e-ae2d-e81319cc3e80"
      },
      "outputs": [
        {
          "output_type": "stream",
          "name": "stderr",
          "text": [
            "<ipython-input-11-a31d50ca37e9>:10: UserWarning: Creating a tensor from a list of numpy.ndarrays is extremely slow. Please consider converting the list to a single numpy.ndarray with numpy.array() before converting to a tensor. (Triggered internally at ../torch/csrc/utils/tensor_new.cpp:278.)\n",
            "  inputs = torch.tensor(inputs, dtype=torch.float32).unsqueeze(-1)  # Shape: (batch_size, window_size, 1)\n"
          ]
        }
      ],
      "source": [
        "sequence_length = 20\n",
        "batch_size = num_points - sequence_length\n",
        "inputs = []\n",
        "targets = []\n",
        "\n",
        "for i in range(num_points - sequence_length):\n",
        "    inputs.append(y[i:i+sequence_length])\n",
        "    targets.append(y[i+sequence_length])\n",
        "\n",
        "inputs = torch.tensor(inputs, dtype=torch.float32).unsqueeze(-1)  # Shape: (batch_size, window_size, 1)\n",
        "targets = torch.tensor(targets, dtype=torch.float32).unsqueeze(-1)  # Shape: (batch_size, 1)"
      ]
    },
    {
      "cell_type": "markdown",
      "metadata": {
        "id": "pq2C87xw48uz"
      },
      "source": [
        "### **Inicialização da Rede RNN e do Otimizador**\n",
        "\n",
        "Nesta seção, instanciamos a rede RNN com os tamanhos de entrada, estado oculto, e saída definidos. Também configuramos o critério de perda e o otimizador.\n",
        "\n",
        "#### **Explicação do Código**\n",
        "\n",
        "- **`input_size`**: Dimensão da entrada (1, já que estamos lidando com uma série temporal univariada).\n",
        "- **`hidden_size`**: Número de unidades no estado oculto.\n",
        "- **`output_size`**: Dimensão da saída (1, pois queremos prever um único valor por vez)."
      ]
    },
    {
      "cell_type": "code",
      "execution_count": 12,
      "metadata": {
        "id": "tEAgwkE148u0"
      },
      "outputs": [],
      "source": [
        "input_size = 1\n",
        "hidden_size = 8\n",
        "output_size = 1\n",
        "\n",
        "rnn = RNN(input_size, hidden_size, output_size)"
      ]
    },
    {
      "cell_type": "code",
      "execution_count": 13,
      "metadata": {
        "id": "asADj5O948u0"
      },
      "outputs": [],
      "source": [
        "criterion = nn.MSELoss()\n",
        "optimizer = optim.Adam(rnn.parameters(), lr=0.01)"
      ]
    },
    {
      "cell_type": "code",
      "execution_count": 14,
      "metadata": {
        "id": "J1_UvYTj48u0",
        "colab": {
          "base_uri": "https://localhost:8080/"
        },
        "outputId": "af9e3809-423f-4899-c474-e365b5b8c120"
      },
      "outputs": [
        {
          "output_type": "stream",
          "name": "stdout",
          "text": [
            "Epoch 0, Loss: 0.3678688406944275\n",
            "Epoch 50, Loss: 0.0798797607421875\n",
            "Epoch 100, Loss: 0.06693682819604874\n",
            "Epoch 150, Loss: 0.06336759030818939\n",
            "Epoch 200, Loss: 0.06161639094352722\n",
            "Epoch 250, Loss: 0.056580763310194016\n",
            "Epoch 300, Loss: 0.054623793810606\n",
            "Epoch 350, Loss: 0.045281924307346344\n",
            "Epoch 400, Loss: 0.04238157346844673\n",
            "Epoch 450, Loss: 0.036716047674417496\n"
          ]
        }
      ],
      "source": [
        "# Treinamento\n",
        "num_epochs = 500\n",
        "for epoch in range(num_epochs):\n",
        "    optimizer.zero_grad()\n",
        "\n",
        "    predictions = rnn(inputs)\n",
        "    loss = criterion(predictions, targets)\n",
        "    loss.backward()\n",
        "    optimizer.step()\n",
        "\n",
        "    if epoch % 50 == 0:\n",
        "        print(f'Epoch {epoch}, Loss: {loss.item()}')"
      ]
    },
    {
      "cell_type": "markdown",
      "metadata": {
        "id": "q3k0_L6s48u0"
      },
      "source": [
        "### **Geração de Predições com a Rede Treinada**\n",
        "\n",
        "Após o treinamento, usamos a RNN para gerar previsões de uma nova série temporal. A ideia é prever a continuação da senoide a partir de uma sequência inicial.\n",
        "\n",
        "#### **Explicação do Código**\n",
        "\n",
        "- **`predicted_wave`**: Lista para armazenar as predições feitas pela RNN.\n",
        "- **`input_seq`**: Sequência inicial usada para começar a predição.\n",
        "- **Passos de predição**:\n",
        "  - A cada passo, a rede faz uma nova predição que é adicionada à sequência de entrada.\n",
        "  - A janela de entrada é atualizada para incluir a nova predição e excluir o ponto mais antigo."
      ]
    },
    {
      "cell_type": "code",
      "execution_count": 15,
      "metadata": {
        "id": "Qk38USND48u0",
        "colab": {
          "base_uri": "https://localhost:8080/",
          "height": 430
        },
        "outputId": "8b2cc5b3-a9a4-4bb5-c28b-c3e561bb08ac"
      },
      "outputs": [
        {
          "output_type": "display_data",
          "data": {
            "text/plain": [
              "<Figure size 640x480 with 1 Axes>"
            ],
            "image/png": "[encoded data removed]"
          },
          "metadata": {}
        }
      ],
      "source": [
        "# Gerando predições para uma senoide\n",
        "predicted_wave = []\n",
        "\n",
        "input_seq = y[:sequence_length].reshape(1, sequence_length, 1)\n",
        "input_seq = torch.tensor(input_seq, dtype=torch.float32)\n",
        "\n",
        "for _ in range(num_points - sequence_length):\n",
        "    predicted_next = rnn(input_seq)\n",
        "    predicted_wave.append(predicted_next.item())\n",
        "\n",
        "    # Arrasta a janela de entrada\n",
        "    predicted_next = predicted_next.view(1, 1, 1)  # Reshape para (1, 1, 1)\n",
        "    input_seq = torch.cat([input_seq[:, 1:, :], predicted_next], dim=1) # Remove o primeiro elemento e adiciona a predição\n",
        "\n",
        "# Plota a senoide original e a predição\n",
        "plt.scatter(x, y, label='Original')\n",
        "plt.scatter(x[sequence_length:], predicted_wave, label='Predito', linestyle='dashed')\n",
        "plt.legend()\n",
        "plt.show()"
      ]
    },
    {
      "cell_type": "markdown",
      "metadata": {
        "id": "8tOmkFC448u0"
      },
      "source": [
        "## **Exercícios**\n",
        "\n",
        "### **Exercício 1: Aumentando o Tamanho do Estado Oculto**\n",
        "\n",
        "1. Aumente o tamanho do estado oculto (`hidden_size`) na rede RNN.\n",
        "2. Treine a rede novamente com os mesmos dados de entrada.\n",
        "3. Compare a perda final e as predições da rede com o modelo original.\n",
        "4. Pergunta: Como o aumento do tamanho do estado oculto afetou o desempenho da rede?\n",
        "\n",
        "### **Exercício 2: Predição de Longo Prazo**\n",
        "\n",
        "1. Use a RNN treinada para prever 100 pontos futuros da senoide a partir de uma nova sequência inicial de 20 pontos.\n",
        "2. Aumente o número de camadas ocultas e tente novamente.\n",
        "2. Compare as predições com a senoide original.\n",
        "3. Pergunta: A rede consegue manter a forma da senoide por um longo período de predição? O que acontece com as predições ao longo do tempo?\n",
        "\n",
        "### **Exercício 3: Adicionando Ruído**\n",
        "\n",
        "1. Adicione um ruído gaussiano mais forte à série temporal original (aumente a variância do ruído).\n",
        "2. Treine a RNN com essa série temporal ruidosa.\n",
        "3. Compare as predições com o modelo treinado com menos ruído.\n",
        "4. Pergunta: Como o aumento do ruído nos dados de entrada impacta a capacidade da RNN de prever corretamente a série temporal?"
      ]
    },
    {
      "cell_type": "markdown",
      "source": [
        "Exercício 1:"
      ],
      "metadata": {
        "id": "Bt7t_7Cw5M0b"
      }
    },
    {
      "cell_type": "code",
      "source": [
        "input_size = 1\n",
        "hidden_size = 20\n",
        "output_size = 1\n",
        "\n",
        "rnn1 = RNN(input_size, hidden_size, output_size)"
      ],
      "metadata": {
        "id": "bBV0RWcV5Owm"
      },
      "execution_count": 16,
      "outputs": []
    },
    {
      "cell_type": "code",
      "source": [
        "criterion = nn.MSELoss()\n",
        "optimizer = optim.Adam(rnn1.parameters(), lr=0.01)"
      ],
      "metadata": {
        "id": "wFfKwrQw5coI"
      },
      "execution_count": 17,
      "outputs": []
    },
    {
      "cell_type": "code",
      "source": [
        "# Treinamento\n",
        "num_epochs = 500\n",
        "for epoch in range(num_epochs):\n",
        "    optimizer.zero_grad()\n",
        "\n",
        "    predictions = rnn1(inputs)\n",
        "    loss = criterion(predictions, targets)\n",
        "    loss.backward()\n",
        "    optimizer.step()\n",
        "\n",
        "    if epoch % 50 == 0:\n",
        "        print(f'Epoch {epoch}, Loss: {loss.item()}')"
      ],
      "metadata": {
        "colab": {
          "base_uri": "https://localhost:8080/"
        },
        "id": "gaZLB7ML5f7W",
        "outputId": "f5ff3293-8f74-47f8-9f97-6004fbf130a1"
      },
      "execution_count": 19,
      "outputs": [
        {
          "output_type": "stream",
          "name": "stdout",
          "text": [
            "Epoch 0, Loss: 0.4776638150215149\n",
            "Epoch 50, Loss: 0.0655251294374466\n",
            "Epoch 100, Loss: 0.048306990414857864\n",
            "Epoch 150, Loss: 0.029918253421783447\n",
            "Epoch 200, Loss: 0.014365091919898987\n",
            "Epoch 250, Loss: 0.0079656932502985\n",
            "Epoch 300, Loss: 0.011082193814218044\n",
            "Epoch 350, Loss: 0.0024492600932717323\n",
            "Epoch 400, Loss: 0.004303190391510725\n",
            "Epoch 450, Loss: 0.0011945113074034452\n"
          ]
        }
      ]
    },
    {
      "cell_type": "markdown",
      "source": [
        "Com o aumento do tamanho do estado oculto houve a diminuição do erro."
      ],
      "metadata": {
        "id": "mkdWe2mF6G0p"
      }
    },
    {
      "cell_type": "markdown",
      "source": [
        "Exercício 2:"
      ],
      "metadata": {
        "id": "m7nhcf3e6NK3"
      }
    },
    {
      "cell_type": "code",
      "source": [
        "# Gerando predições para uma senoide\n",
        "predicted_wave = []\n",
        "\n",
        "input_seq = y[:sequence_length].reshape(1, sequence_length, 1)\n",
        "input_seq = torch.tensor(input_seq, dtype=torch.float32)\n",
        "\n",
        "for _ in range(num_points - sequence_length):\n",
        "    predicted_next = rnn1(input_seq)\n",
        "    predicted_wave.append(predicted_next.item())\n",
        "\n",
        "    # Arrasta a janela de entrada\n",
        "    predicted_next = predicted_next.view(1, 1, 1)  # Reshape para (1, 1, 1)\n",
        "    input_seq = torch.cat([input_seq[:, 1:, :], predicted_next], dim=1) # Remove o primeiro elemento e adiciona a predição\n",
        "\n",
        "# Plota a senoide original e a predição\n",
        "plt.scatter(x, y, label='Original')\n",
        "plt.scatter(x[sequence_length:], predicted_wave, label='Predito', linestyle='dashed')\n",
        "plt.legend()\n",
        "plt.show()"
      ],
      "metadata": {
        "colab": {
          "base_uri": "https://localhost:8080/",
          "height": 430
        },
        "id": "kRH3_M0V6Mgd",
        "outputId": "3a7a9482-b61f-41a9-efbb-d4cd794722b5"
      },
      "execution_count": 22,
      "outputs": [
        {
          "output_type": "display_data",
          "data": {
            "text/plain": [
              "<Figure size 640x480 with 1 Axes>"
            ],
            "image/png": "[encoded data removed]"
          },
          "metadata": {}
        }
      ]
    },
    {
      "cell_type": "markdown",
      "source": [
        "Exercício 3:"
      ],
      "metadata": {
        "id": "Z42-ZaRN7KUy"
      }
    },
    {
      "cell_type": "code",
      "source": [
        "num_points = 100\n",
        "\n",
        "x = np.linspace(0, 6*np.pi, num_points)\n",
        "#Aumento do Ruído\n",
        "y = np.sin(x) + np.random.normal(0, 1, num_points)"
      ],
      "metadata": {
        "id": "_nPcii4T7MmL"
      },
      "execution_count": 29,
      "outputs": []
    },
    {
      "cell_type": "code",
      "source": [
        "sequence_length = 20\n",
        "batch_size = num_points - sequence_length\n",
        "inputs = []\n",
        "targets = []\n",
        "\n",
        "for i in range(num_points - sequence_length):\n",
        "    inputs.append(y[i:i+sequence_length])\n",
        "    targets.append(y[i+sequence_length])\n",
        "\n",
        "inputs = torch.tensor(inputs, dtype=torch.float32).unsqueeze(-1)\n",
        "targets = torch.tensor(targets, dtype=torch.float32).unsqueeze(-1)"
      ],
      "metadata": {
        "id": "N1Cfma7a7jjG"
      },
      "execution_count": 30,
      "outputs": []
    },
    {
      "cell_type": "code",
      "source": [
        "input_size = 1\n",
        "hidden_size = 8\n",
        "output_size = 1\n",
        "\n",
        "rnn = RNN(input_size, hidden_size, output_size)"
      ],
      "metadata": {
        "id": "mjE1Ba6I7p7T"
      },
      "execution_count": 31,
      "outputs": []
    },
    {
      "cell_type": "code",
      "source": [
        "criterion = nn.MSELoss()\n",
        "optimizer = optim.Adam(rnn.parameters(), lr=0.01)"
      ],
      "metadata": {
        "id": "JmGhz2fN7vHA"
      },
      "execution_count": 32,
      "outputs": []
    },
    {
      "cell_type": "code",
      "source": [
        "# Treinamento\n",
        "num_epochs = 500\n",
        "for epoch in range(num_epochs):\n",
        "    optimizer.zero_grad()\n",
        "\n",
        "    predictions = rnn(inputs)\n",
        "    loss = criterion(predictions, targets)\n",
        "    loss.backward()\n",
        "    optimizer.step()\n",
        "\n",
        "    if epoch % 50 == 0:\n",
        "        print(f'Epoch {epoch}, Loss: {loss.item()}')"
      ],
      "metadata": {
        "colab": {
          "base_uri": "https://localhost:8080/"
        },
        "id": "RDY4oVpF7yMN",
        "outputId": "4f2c4e45-cc88-486a-9e98-f9b2ce8a794a"
      },
      "execution_count": 33,
      "outputs": [
        {
          "output_type": "stream",
          "name": "stdout",
          "text": [
            "Epoch 0, Loss: 1.6213600635528564\n",
            "Epoch 50, Loss: 1.091139316558838\n",
            "Epoch 100, Loss: 0.7388690710067749\n",
            "Epoch 150, Loss: 0.4927811026573181\n",
            "Epoch 200, Loss: 0.40364885330200195\n",
            "Epoch 250, Loss: 0.3330545425415039\n",
            "Epoch 300, Loss: 0.28718507289886475\n",
            "Epoch 350, Loss: 0.24386008083820343\n",
            "Epoch 400, Loss: 0.21856169402599335\n",
            "Epoch 450, Loss: 0.21363461017608643\n"
          ]
        }
      ]
    },
    {
      "cell_type": "markdown",
      "source": [
        "Em comparação do ruído 0.3 e 1, com o aumento do ruído houve uma diminuição das perdas."
      ],
      "metadata": {
        "id": "inD3jajt8eQJ"
      }
    }
  ],
  "metadata": {
    "kernelspec": {
      "display_name": "base",
      "language": "python",
      "name": "python3"
    },
    "language_info": {
      "codemirror_mode": {
        "name": "ipython",
        "version": 3
      },
      "file_extension": ".py",
      "mimetype": "text/x-python",
      "name": "python",
      "nbconvert_exporter": "python",
      "pygments_lexer": "ipython3",
      "version": "3.10.13"
    },
    "colab": {
      "provenance": []
    }
  },
  "nbformat": 4,
  "nbformat_minor": 0
}