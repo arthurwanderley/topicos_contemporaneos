{
  "cells": [
    {
      "cell_type": "markdown",
      "metadata": {
        "id": "fIMtDyaR6HDr"
      },
      "source": [
        "# CNN\n",
        "\n",
        "Alunos:\n",
        "\n",
        "Arthur Wanderley Ferreira dos Santos - awfs@cesar.school\n",
        "\n",
        "Thiago Wanderley Amorim - twa@cesar.school"
      ]
    },
    {
      "cell_type": "markdown",
      "metadata": {
        "id": "1U9VJcKoA170"
      },
      "source": [
        "## 1. Leitura dos dados"
      ]
    },
    {
      "cell_type": "code",
      "execution_count": 38,
      "metadata": {
        "id": "hI3TU4A_5t6y"
      },
      "outputs": [],
      "source": [
        "# Importando bibliotecas necessárias\n",
        "import os\n",
        "import shutil\n",
        "import torch\n",
        "from torchvision import transforms\n",
        "from torch.utils.data import DataLoader, random_split, TensorDataset\n",
        "import matplotlib.pyplot as plt\n",
        "from PIL import Image\n",
        "import torch.nn as nn\n",
        "import torch.nn.functional as F"
      ]
    },
    {
      "cell_type": "code",
      "execution_count": 16,
      "metadata": {
        "colab": {
          "base_uri": "https://localhost:8080/"
        },
        "id": "CzQFnBqp6Vkx",
        "outputId": "13c32acb-1557-4f62-82d7-75669825214c"
      },
      "outputs": [
        {
          "name": "stdout",
          "output_type": "stream",
          "text": [
            "fatal: destination path 'topicos_contemporaneos' already exists and is not an empty directory.\n"
          ]
        }
      ],
      "source": [
        "#Acessa repositório no github para obter o dataset\n",
        "!git clone https://github.com/arthurwanderley/topicos_contemporaneos.git\n",
        "\n",
        "#Caminho do dataset\n",
        "dataset_path = \"topicos_contemporaneos/Trabalho Final CNN/homer_bart_1\"\n",
        "\n",
        "# Listando as imagens no dataset\n",
        "image_files = [f for f in os.listdir(dataset_path) if f.endswith(\"bmp\")]"
      ]
    },
    {
      "cell_type": "markdown",
      "metadata": {
        "id": "ZRoSjhPo9dzR"
      },
      "source": [
        "Definição de Transformações e Data Augmentation"
      ]
    },
    {
      "cell_type": "code",
      "execution_count": 26,
      "metadata": {
        "id": "TDfpTGtf9Zjh"
      },
      "outputs": [],
      "source": [
        "transform = transforms.Compose([\n",
        "    transforms.Resize((128, 128)),  # Redimensionar as imagens\n",
        "    transforms.RandomHorizontalFlip(),  # Flip horizontal aleatório\n",
        "    transforms.RandomRotation(15),  # Rotação aleatória\n",
        "    transforms.ToTensor(),  # Converter para tensor\n",
        "    transforms.Normalize(mean=[0.5, 0.5, 0.5], std=[0.5, 0.5, 0.5])  # Normalização\n",
        "])"
      ]
    },
    {
      "cell_type": "markdown",
      "metadata": {
        "id": "wiyFlHhxAvsh"
      },
      "source": [
        "Preparação dos dados"
      ]
    },
    {
      "cell_type": "code",
      "execution_count": 23,
      "metadata": {
        "id": "JWP9mfBw_2fM"
      },
      "outputs": [],
      "source": [
        "# Preparando os dados\n",
        "images = []\n",
        "labels = []\n",
        "\n",
        "for img_file in image_files:\n",
        "    img_path = os.path.join(dataset_path, img_file)\n",
        "    img = Image.open(img_path)\n",
        "    tensor_img = transform(img)\n",
        "    images.append(tensor_img)\n",
        "\n",
        "    if \"homer\" in img_file.lower():\n",
        "        labels.append(0)  # Classe 0 para Homer\n",
        "    elif \"bart\" in img_file.lower():\n",
        "        labels.append(1)  # Classe 1 para Bart\n",
        "\n",
        "images = torch.stack(images)\n",
        "labels = torch.tensor(labels)"
      ]
    },
    {
      "cell_type": "code",
      "execution_count": 24,
      "metadata": {
        "colab": {
          "base_uri": "https://localhost:8080/"
        },
        "id": "nelvzndhAPGX",
        "outputId": "afa78c36-be00-4494-94e1-44172dfb4f7e"
      },
      "outputs": [
        {
          "name": "stdout",
          "output_type": "stream",
          "text": [
            "Amostras do dataset: 269\n",
            "\n",
            "Dimensões dos dados das imagens:    torch.Size([269, 3, 128, 128])\n",
            "Valores mínimo e máximo dos pixels: tensor(-1.) tensor(1.)\n",
            "Tipo dos dados das imagens:         <class 'torch.Tensor'>\n",
            "Tipo das classes das imagens:       <class 'torch.Tensor'>\n"
          ]
        }
      ],
      "source": [
        "print(\"Amostras do dataset:\", images.size(0))\n",
        "print(\"\\nDimensões dos dados das imagens:   \", images.size())\n",
        "print(\"Valores mínimo e máximo dos pixels:\", torch.min(images), torch.max(images))\n",
        "print(\"Tipo dos dados das imagens:        \", type(images))\n",
        "print(\"Tipo das classes das imagens:      \", type(labels))"
      ]
    },
    {
      "cell_type": "code",
      "execution_count": 25,
      "metadata": {
        "colab": {
          "base_uri": "https://localhost:8080/",
          "height": 230
        },
        "id": "nsUrFUdgAWPX",
        "outputId": "c4613f21-e652-4812-c912-906a4b681f36"
      },
      "outputs": [
        {
          "name": "stderr",
          "output_type": "stream",
          "text": [
            "WARNING:matplotlib.image:Clipping input data to the valid range for imshow with RGB data ([0..1] for floats or [0..255] for integers). Got range [-1.0..1.0].\n"
          ]
        },
        {
          "data": {
            "image/png": "[encoded data removed]",
            "text/plain": [
              "<Figure size 200x200 with 1 Axes>"
            ]
          },
          "metadata": {},
          "output_type": "display_data"
        }
      ],
      "source": [
        "plt.figure(figsize=(2, 2))\n",
        "plt.imshow(images[0].permute(1, 2, 0))\n",
        "plt.title(f\"Label: {'Homer' if labels[0] == 0 else 'Bart'}\")\n",
        "plt.axis('off')\n",
        "plt.show()"
      ]
    },
    {
      "cell_type": "markdown",
      "metadata": {
        "id": "3GSK4Qh1AzLB"
      },
      "source": [
        "Criação do dataset"
      ]
    },
    {
      "cell_type": "code",
      "execution_count": 20,
      "metadata": {
        "id": "5TaAHdrQAAsN"
      },
      "outputs": [],
      "source": [
        "# Criando o dataset completo\n",
        "dataset = TensorDataset(images, labels)"
      ]
    },
    {
      "cell_type": "code",
      "execution_count": 21,
      "metadata": {
        "id": "M5OBB8uNAC99"
      },
      "outputs": [],
      "source": [
        "# Dividindo o dataset em treino (80%) e validação (20%)\n",
        "data_size = len(dataset)\n",
        "train_size = int(0.8 * data_size)\n",
        "val_size = data_size - train_size\n",
        "\n",
        "train_dataset, val_dataset = random_split(dataset, [train_size, val_size], generator=torch.Generator().manual_seed(42))\n",
        "\n",
        "train_loader = DataLoader(train_dataset, batch_size=32, shuffle=True)\n",
        "val_loader = DataLoader(val_dataset, batch_size=32, shuffle=False)"
      ]
    },
    {
      "cell_type": "markdown",
      "metadata": {
        "id": "E5UE4fUAA5X6"
      },
      "source": [
        "### Modelo Pré Treinado - Resnet18"
      ]
    },
    {
      "cell_type": "code",
      "execution_count": 39,
      "metadata": {
        "id": "fpSK3PrRBFCF"
      },
      "outputs": [],
      "source": [
        "from torchvision import models"
      ]
    },
    {
      "cell_type": "code",
      "execution_count": 40,
      "metadata": {
        "id": "61iqBuhxBIBo"
      },
      "outputs": [],
      "source": [
        "# Carregando um modelo pré-treinado (ResNet18 como exemplo)\n",
        "model_resnet = models.resnet18(pretrained=True)"
      ]
    },
    {
      "cell_type": "code",
      "execution_count": 41,
      "metadata": {
        "id": "xBMJYtPBBLF2"
      },
      "outputs": [],
      "source": [
        "# Congelando as camadas do modelo pré-treinado\n",
        "for param in model_resnet.parameters():\n",
        "    param.requires_grad = False\n",
        "\n",
        "# Substituindo a camada final para se ajustar ao número de classes do dataset\n",
        "num_classes = 2\n",
        "model_resnet.fc = torch.nn.Linear(model_resnet.fc.in_features, num_classes)"
      ]
    },
    {
      "cell_type": "code",
      "execution_count": 43,
      "metadata": {
        "id": "KtqPSzxhBOXC"
      },
      "outputs": [],
      "source": [
        "# Configuração do dispositivo (GPU ou CPU)\n",
        "device = torch.device(\"cuda\" if torch.cuda.is_available() else \"cpu\")\n",
        "model_resnet = model_resnet.to(device)"
      ]
    },
    {
      "cell_type": "markdown",
      "metadata": {
        "id": "SkczEcglFgeB"
      },
      "source": [
        "### Modelo CNN"
      ]
    },
    {
      "cell_type": "code",
      "execution_count": 44,
      "metadata": {
        "id": "EG-i3kd4Fqsz"
      },
      "outputs": [],
      "source": [
        "class CNN(nn.Module):\n",
        "    def __init__(self):\n",
        "        super(CNN, self).__init__()\n",
        "        self.conv1 = nn.Conv2d(3, 6, 5)  # Alterado para 3 canais de entrada (RGB)\n",
        "        self.conv2 = nn.Conv2d(6, 12, 5)\n",
        "        self.fc1 = nn.Linear(12 * 29 * 29, 64)  # Ajustado para tamanhos de entrada 128x128\n",
        "        self.fc2 = nn.Linear(64, num_classes)\n",
        "\n",
        "    def forward(self, x):\n",
        "        # CNN\n",
        "        x = F.relu(self.conv1(x))\n",
        "        x = F.max_pool2d(x, 2, 2)\n",
        "        x = F.relu(self.conv2(x))\n",
        "        x = F.max_pool2d(x, 2, 2)\n",
        "\n",
        "        # Flatten\n",
        "        x = x.view(-1, 12 * 29 * 29)\n",
        "        x = F.relu(self.fc1(x))\n",
        "        x = self.fc2(x)\n",
        "\n",
        "        return x\n",
        "\n",
        "model_cnn = CNN().to(device)"
      ]
    },
    {
      "cell_type": "markdown",
      "metadata": {
        "id": "GWit_4XCGInM"
      },
      "source": [
        "## 2. Treinamento"
      ]
    },
    {
      "cell_type": "code",
      "execution_count": 45,
      "metadata": {
        "id": "9t3jeF8LBTLY"
      },
      "outputs": [],
      "source": [
        "import torch.optim as optim\n",
        "\n",
        "criterion = torch.nn.CrossEntropyLoss()\n",
        "optimizer_resnet = optim.SGD(model_resnet.fc.parameters(), lr=0.001, momentum=0.9)\n",
        "optimizer_cnn = optim.SGD(model_cnn.parameters(), lr=0.001, momentum=0.9)"
      ]
    },
    {
      "cell_type": "code",
      "execution_count": 46,
      "metadata": {
        "id": "9bhgsHQ2BX-t"
      },
      "outputs": [],
      "source": [
        "def treinar_modelo(model, train_loader, val_loader, criterion, optimizer, epochs=10):\n",
        "    model.train()\n",
        "    for epoch in range(epochs):\n",
        "        running_loss = 0.0\n",
        "        for inputs, labels in train_loader:\n",
        "            inputs, labels = inputs.to(device), labels.to(device)\n",
        "\n",
        "            optimizer.zero_grad()\n",
        "            outputs = model(inputs)\n",
        "            loss = criterion(outputs, labels)\n",
        "            loss.backward()\n",
        "            optimizer.step()\n",
        "\n",
        "            running_loss += loss.item()\n",
        "\n",
        "        print(f\"Epoch {epoch+1}/{epochs}, Loss: {running_loss/len(train_loader):.4f}\")\n",
        "\n",
        "    print(\"Treinamento concluído!\")"
      ]
    },
    {
      "cell_type": "code",
      "execution_count": 47,
      "metadata": {
        "id": "2UQMDJ8iDDNG"
      },
      "outputs": [],
      "source": [
        "def validar_modelo(model, val_loader):\n",
        "    model.eval()\n",
        "    test_loss = 0\n",
        "    correct = 0\n",
        "    total = 0\n",
        "    with torch.no_grad():\n",
        "        for inputs, labels in val_loader:\n",
        "            inputs, labels = inputs.to(device), labels.to(device)\n",
        "            outputs = model(inputs)\n",
        "            test_loss += criterion(outputs, labels).item()\n",
        "            _, predicted = torch.max(outputs, 1)\n",
        "            total += labels.size(0)\n",
        "            correct += (predicted == labels).sum().item()\n",
        "\n",
        "    test_loss /= total\n",
        "    accuracy = 100 * correct / total\n",
        "    print('\\nConjunto de Validação: Loss médio: {:.4f}, Acurácia: {}/{} ({:.0f}%)\\n'.format(\n",
        "        test_loss, correct, total, accuracy))"
      ]
    },
    {
      "cell_type": "code",
      "execution_count": 48,
      "metadata": {
        "colab": {
          "base_uri": "https://localhost:8080/"
        },
        "id": "OeCiJcVjDFAj",
        "outputId": "772ebb23-22cf-4e2e-dbd7-e4d384558264"
      },
      "outputs": [
        {
          "name": "stdout",
          "output_type": "stream",
          "text": [
            "Treinando o modelo ResNet18...\n",
            "Epoch 1/50, Loss: 0.7079\n",
            "Epoch 2/50, Loss: 0.6016\n",
            "Epoch 3/50, Loss: 0.4501\n",
            "Epoch 4/50, Loss: 0.3282\n",
            "Epoch 5/50, Loss: 0.3441\n",
            "Epoch 6/50, Loss: 0.2583\n",
            "Epoch 7/50, Loss: 0.2377\n",
            "Epoch 8/50, Loss: 0.2127\n",
            "Epoch 9/50, Loss: 0.2114\n",
            "Epoch 10/50, Loss: 0.1993\n",
            "Epoch 11/50, Loss: 0.2141\n",
            "Epoch 12/50, Loss: 0.2017\n",
            "Epoch 13/50, Loss: 0.1436\n",
            "Epoch 14/50, Loss: 0.1701\n",
            "Epoch 15/50, Loss: 0.1425\n",
            "Epoch 16/50, Loss: 0.1472\n",
            "Epoch 17/50, Loss: 0.1302\n",
            "Epoch 18/50, Loss: 0.1327\n",
            "Epoch 19/50, Loss: 0.1470\n",
            "Epoch 20/50, Loss: 0.1412\n",
            "Epoch 21/50, Loss: 0.1144\n",
            "Epoch 22/50, Loss: 0.1219\n",
            "Epoch 23/50, Loss: 0.1094\n",
            "Epoch 24/50, Loss: 0.1307\n",
            "Epoch 25/50, Loss: 0.1072\n",
            "Epoch 26/50, Loss: 0.1155\n",
            "Epoch 27/50, Loss: 0.1083\n",
            "Epoch 28/50, Loss: 0.1276\n",
            "Epoch 29/50, Loss: 0.0988\n",
            "Epoch 30/50, Loss: 0.0973\n",
            "Epoch 31/50, Loss: 0.1068\n",
            "Epoch 32/50, Loss: 0.0948\n",
            "Epoch 33/50, Loss: 0.0861\n",
            "Epoch 34/50, Loss: 0.0997\n",
            "Epoch 35/50, Loss: 0.0912\n",
            "Epoch 36/50, Loss: 0.1094\n",
            "Epoch 37/50, Loss: 0.0796\n",
            "Epoch 38/50, Loss: 0.0791\n",
            "Epoch 39/50, Loss: 0.0927\n",
            "Epoch 40/50, Loss: 0.0956\n",
            "Epoch 41/50, Loss: 0.0709\n",
            "Epoch 42/50, Loss: 0.0885\n",
            "Epoch 43/50, Loss: 0.0724\n",
            "Epoch 44/50, Loss: 0.0758\n",
            "Epoch 45/50, Loss: 0.0763\n",
            "Epoch 46/50, Loss: 0.0832\n",
            "Epoch 47/50, Loss: 0.0758\n",
            "Epoch 48/50, Loss: 0.0581\n",
            "Epoch 49/50, Loss: 0.0770\n",
            "Epoch 50/50, Loss: 0.0797\n",
            "Treinamento concluído!\n",
            "Validando o modelo ResNet18...\n",
            "\n",
            "Conjunto de Validação: Loss médio: 0.0154, Acurácia: 46/54 (85%)\n",
            "\n"
          ]
        }
      ],
      "source": [
        "# Treinamento Resnet18\n",
        "print(\"Treinando o modelo ResNet18...\")\n",
        "treinar_modelo(model_resnet, train_loader, val_loader, criterion, optimizer_resnet, 50)\n",
        "print(\"Validando o modelo ResNet18...\")\n",
        "validar_modelo(model_resnet, val_loader)"
      ]
    },
    {
      "cell_type": "code",
      "execution_count": 49,
      "metadata": {
        "colab": {
          "base_uri": "https://localhost:8080/"
        },
        "id": "hcx0uo7ZDnlc",
        "outputId": "36846c24-ae86-4808-a70b-d700f6b4ee8b"
      },
      "outputs": [
        {
          "name": "stdout",
          "output_type": "stream",
          "text": [
            "Treinando o modelo CNN personalizado...\n",
            "Epoch 1/50, Loss: 0.7066\n",
            "Epoch 2/50, Loss: 0.6787\n",
            "Epoch 3/50, Loss: 0.6717\n",
            "Epoch 4/50, Loss: 0.6662\n",
            "Epoch 5/50, Loss: 0.6567\n",
            "Epoch 6/50, Loss: 0.6453\n",
            "Epoch 7/50, Loss: 0.6362\n",
            "Epoch 8/50, Loss: 0.6239\n",
            "Epoch 9/50, Loss: 0.6065\n",
            "Epoch 10/50, Loss: 0.5812\n",
            "Epoch 11/50, Loss: 0.5623\n",
            "Epoch 12/50, Loss: 0.5334\n",
            "Epoch 13/50, Loss: 0.5030\n",
            "Epoch 14/50, Loss: 0.4857\n",
            "Epoch 15/50, Loss: 0.4767\n",
            "Epoch 16/50, Loss: 0.4554\n",
            "Epoch 17/50, Loss: 0.4551\n",
            "Epoch 18/50, Loss: 0.4428\n",
            "Epoch 19/50, Loss: 0.4059\n",
            "Epoch 20/50, Loss: 0.4124\n",
            "Epoch 21/50, Loss: 0.4005\n",
            "Epoch 22/50, Loss: 0.3752\n",
            "Epoch 23/50, Loss: 0.3533\n",
            "Epoch 24/50, Loss: 0.3719\n",
            "Epoch 25/50, Loss: 0.3572\n",
            "Epoch 26/50, Loss: 0.3508\n",
            "Epoch 27/50, Loss: 0.3237\n",
            "Epoch 28/50, Loss: 0.2830\n",
            "Epoch 29/50, Loss: 0.3093\n",
            "Epoch 30/50, Loss: 0.2531\n",
            "Epoch 31/50, Loss: 0.2252\n",
            "Epoch 32/50, Loss: 0.2130\n",
            "Epoch 33/50, Loss: 0.1941\n",
            "Epoch 34/50, Loss: 0.1786\n",
            "Epoch 35/50, Loss: 0.1876\n",
            "Epoch 36/50, Loss: 0.1465\n",
            "Epoch 37/50, Loss: 0.1215\n",
            "Epoch 38/50, Loss: 0.1083\n",
            "Epoch 39/50, Loss: 0.0964\n",
            "Epoch 40/50, Loss: 0.0834\n",
            "Epoch 41/50, Loss: 0.0940\n",
            "Epoch 42/50, Loss: 0.0751\n",
            "Epoch 43/50, Loss: 0.0606\n",
            "Epoch 44/50, Loss: 0.0581\n",
            "Epoch 45/50, Loss: 0.0469\n",
            "Epoch 46/50, Loss: 0.0375\n",
            "Epoch 47/50, Loss: 0.0320\n",
            "Epoch 48/50, Loss: 0.0291\n",
            "Epoch 49/50, Loss: 0.0282\n",
            "Epoch 50/50, Loss: 0.0298\n",
            "Treinamento concluído!\n",
            "Validando o modelo CNN personalizado...\n",
            "\n",
            "Conjunto de Validação: Loss médio: 0.0382, Acurácia: 41/54 (76%)\n",
            "\n"
          ]
        }
      ],
      "source": [
        "# Treinando e validando o modelo CNN personalizado\n",
        "print(\"Treinando o modelo CNN personalizado...\")\n",
        "treinar_modelo(model_cnn, train_loader, val_loader, criterion, optimizer_cnn,50)\n",
        "print(\"Validando o modelo CNN personalizado...\")\n",
        "validar_modelo(model_cnn, val_loader)"
      ]
    }
  ],
  "metadata": {
    "colab": {
      "provenance": [],
      "toc_visible": true
    },
    "kernelspec": {
      "display_name": "Python 3",
      "name": "python3"
    },
    "language_info": {
      "name": "python"
    }
  },
  "nbformat": 4,
  "nbformat_minor": 0
}
