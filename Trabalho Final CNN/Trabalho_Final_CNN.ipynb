{
  "nbformat": 4,
  "nbformat_minor": 0,
  "metadata": {
    "colab": {
      "provenance": [],
      "toc_visible": true
    },
    "kernelspec": {
      "name": "python3",
      "display_name": "Python 3"
    },
    "language_info": {
      "name": "python"
    }
  },
  "cells": [
    {
      "cell_type": "markdown",
      "source": [
        "# CNN\n",
        "\n",
        "Alunos:\n",
        "\n",
        "Arthur Wanderley Ferreira dos Santos - awfs@cesar.school\n",
        "\n",
        "Thiago Wanderley Amorim - twa@cesar.school"
      ],
      "metadata": {
        "id": "fIMtDyaR6HDr"
      }
    },
    {
      "cell_type": "markdown",
      "source": [
        "## 1. Leitura dos dados"
      ],
      "metadata": {
        "id": "1U9VJcKoA170"
      }
    },
    {
      "cell_type": "code",
      "execution_count": null,
      "metadata": {
        "id": "hI3TU4A_5t6y"
      },
      "outputs": [],
      "source": [
        "# Importando bibliotecas necessárias\n",
        "import os\n",
        "import shutil\n",
        "import torch\n",
        "from torchvision import transforms\n",
        "from torch.utils.data import DataLoader, random_split, TensorDataset\n",
        "import matplotlib.pyplot as plt\n",
        "from PIL import Image\n",
        "import torch.nn as nn\n",
        "import torch.nn.functional as F"
      ]
    },
    {
      "cell_type": "code",
      "source": [
        "#Acessa repositório no github para obter o dataset\n",
        "!git clone https://github.com/arthurwanderley/topicos_contemporaneos.git\n",
        "\n",
        "#Caminho do dataset\n",
        "dataset_path = \"topicos_contemporaneos/Trabalho Final CNN/homer_bart_1\"\n",
        "\n",
        "# Listando as imagens no dataset\n",
        "image_files = [f for f in os.listdir(dataset_path) if f.endswith(\"bmp\")]"
      ],
      "metadata": {
        "colab": {
          "base_uri": "https://localhost:8080/"
        },
        "id": "CzQFnBqp6Vkx",
        "outputId": "bdca1117-0f9f-47ae-9dd6-d8aac775b6ed"
      },
      "execution_count": null,
      "outputs": [
        {
          "output_type": "stream",
          "name": "stdout",
          "text": [
            "Cloning into 'topicos_contemporaneos'...\n",
            "remote: Enumerating objects: 281, done.\u001b[K\n",
            "remote: Counting objects: 100% (281/281), done.\u001b[K\n",
            "remote: Compressing objects: 100% (61/61), done.\u001b[K\n",
            "remote: Total 281 (delta 220), reused 278 (delta 219), pack-reused 0 (from 0)\u001b[K\n",
            "Receiving objects: 100% (281/281), 7.72 MiB | 10.95 MiB/s, done.\n",
            "Resolving deltas: 100% (220/220), done.\n"
          ]
        }
      ]
    },
    {
      "cell_type": "markdown",
      "source": [
        "Definição de Transformações e Data Augmentation"
      ],
      "metadata": {
        "id": "ZRoSjhPo9dzR"
      }
    },
    {
      "cell_type": "code",
      "source": [
        "transform = transforms.Compose([\n",
        "    transforms.Resize((128, 128)),  # Redimensionar as imagens\n",
        "    transforms.RandomHorizontalFlip(),  # Flip horizontal aleatório\n",
        "    transforms.RandomRotation(15),  # Rotação aleatória\n",
        "    transforms.ToTensor(),  # Converter para tensor\n",
        "    transforms.Normalize(mean=[0.5, 0.5, 0.5], std=[0.5, 0.5, 0.5])  # Normalização\n",
        "])"
      ],
      "metadata": {
        "id": "TDfpTGtf9Zjh"
      },
      "execution_count": null,
      "outputs": []
    },
    {
      "cell_type": "markdown",
      "source": [
        "Preparação dos dados"
      ],
      "metadata": {
        "id": "wiyFlHhxAvsh"
      }
    },
    {
      "cell_type": "code",
      "source": [
        "# Preparando os dados\n",
        "images = []\n",
        "labels = []\n",
        "\n",
        "for img_file in image_files:\n",
        "    img_path = os.path.join(dataset_path, img_file)\n",
        "    img = Image.open(img_path)\n",
        "    tensor_img = transform(img)\n",
        "    images.append(tensor_img)\n",
        "\n",
        "    if \"homer\" in img_file.lower():\n",
        "        labels.append(0)  # Classe 0 para Homer\n",
        "    elif \"bart\" in img_file.lower():\n",
        "        labels.append(1)  # Classe 1 para Bart\n",
        "\n",
        "images = torch.stack(images)\n",
        "labels = torch.tensor(labels)"
      ],
      "metadata": {
        "id": "JWP9mfBw_2fM"
      },
      "execution_count": null,
      "outputs": []
    },
    {
      "cell_type": "code",
      "source": [
        "print(\"Amostras do dataset:\", images.size(0))\n",
        "print(\"\\nDimensões dos dados das imagens:   \", images.size())\n",
        "print(\"Valores mínimo e máximo dos pixels:\", torch.min(images), torch.max(images))\n",
        "print(\"Tipo dos dados das imagens:        \", type(images))\n",
        "print(\"Tipo das classes das imagens:      \", type(labels))"
      ],
      "metadata": {
        "id": "nelvzndhAPGX",
        "outputId": "bb6176ed-e852-482f-ffda-2bc37e0bacb2",
        "colab": {
          "base_uri": "https://localhost:8080/"
        }
      },
      "execution_count": null,
      "outputs": [
        {
          "output_type": "stream",
          "name": "stdout",
          "text": [
            "Amostras do dataset: 269\n",
            "\n",
            "Dimensões dos dados das imagens:    torch.Size([269, 3, 128, 128])\n",
            "Valores mínimo e máximo dos pixels: tensor(-1.) tensor(1.)\n",
            "Tipo dos dados das imagens:         <class 'torch.Tensor'>\n",
            "Tipo das classes das imagens:       <class 'torch.Tensor'>\n"
          ]
        }
      ]
    },
    {
      "cell_type": "code",
      "source": [
        "plt.figure(figsize=(2, 2))\n",
        "plt.imshow(images[0].permute(1, 2, 0))\n",
        "plt.title(f\"Label: {'Homer' if labels[0] == 0 else 'Bart'}\")\n",
        "plt.axis('off')\n",
        "plt.show()"
      ],
      "metadata": {
        "id": "nsUrFUdgAWPX",
        "outputId": "1b8522dc-5381-45a2-bfc9-5954b0577138",
        "colab": {
          "base_uri": "https://localhost:8080/",
          "height": 230
        }
      },
      "execution_count": null,
      "outputs": [
        {
          "output_type": "stream",
          "name": "stderr",
          "text": [
            "WARNING:matplotlib.image:Clipping input data to the valid range for imshow with RGB data ([0..1] for floats or [0..255] for integers). Got range [-1.0..1.0].\n"
          ]
        },
        {
          "output_type": "display_data",
          "data": {
            "text/plain": [
              "<Figure size 200x200 with 1 Axes>"
            ],
            "image/png": "[encoded data removed]"
          },
          "metadata": {}
        }
      ]
    },
    {
      "cell_type": "markdown",
      "source": [
        "Criação do dataset"
      ],
      "metadata": {
        "id": "3GSK4Qh1AzLB"
      }
    },
    {
      "cell_type": "code",
      "source": [
        "# Criando o dataset completo\n",
        "dataset = TensorDataset(images, labels)"
      ],
      "metadata": {
        "id": "5TaAHdrQAAsN"
      },
      "execution_count": null,
      "outputs": []
    },
    {
      "cell_type": "code",
      "source": [
        "# Dividindo o dataset em treino (80%) e validação (20%)\n",
        "data_size = len(dataset)\n",
        "train_size = int(0.8 * data_size)\n",
        "val_size = data_size - train_size\n",
        "\n",
        "train_dataset, val_dataset = random_split(dataset, [train_size, val_size], generator=torch.Generator().manual_seed(42))\n",
        "\n",
        "train_loader = DataLoader(train_dataset, batch_size=32, shuffle=True)\n",
        "val_loader = DataLoader(val_dataset, batch_size=32, shuffle=False)"
      ],
      "metadata": {
        "id": "M5OBB8uNAC99"
      },
      "execution_count": null,
      "outputs": []
    },
    {
      "cell_type": "markdown",
      "source": [
        "### Modelo Pré Treinado - Resnet18"
      ],
      "metadata": {
        "id": "E5UE4fUAA5X6"
      }
    },
    {
      "cell_type": "code",
      "source": [
        "from torchvision import models"
      ],
      "metadata": {
        "id": "fpSK3PrRBFCF"
      },
      "execution_count": null,
      "outputs": []
    },
    {
      "cell_type": "code",
      "source": [
        "# Carregando um modelo pré-treinado (ResNet18 como exemplo)\n",
        "model_resnet = models.resnet18(pretrained=True)"
      ],
      "metadata": {
        "id": "61iqBuhxBIBo",
        "outputId": "7a19344a-18f7-48fa-8ad9-9432bab1224f",
        "colab": {
          "base_uri": "https://localhost:8080/"
        }
      },
      "execution_count": null,
      "outputs": [
        {
          "output_type": "stream",
          "name": "stderr",
          "text": [
            "/usr/local/lib/python3.11/dist-packages/torchvision/models/_utils.py:208: UserWarning: The parameter 'pretrained' is deprecated since 0.13 and may be removed in the future, please use 'weights' instead.\n",
            "  warnings.warn(\n",
            "/usr/local/lib/python3.11/dist-packages/torchvision/models/_utils.py:223: UserWarning: Arguments other than a weight enum or `None` for 'weights' are deprecated since 0.13 and may be removed in the future. The current behavior is equivalent to passing `weights=ResNet18_Weights.IMAGENET1K_V1`. You can also use `weights=ResNet18_Weights.DEFAULT` to get the most up-to-date weights.\n",
            "  warnings.warn(msg)\n",
            "Downloading: \"https://download.pytorch.org/models/resnet18-f37072fd.pth\" to /root/.cache/torch/hub/checkpoints/resnet18-f37072fd.pth\n",
            "100%|██████████| 44.7M/44.7M [00:00<00:00, 93.2MB/s]\n"
          ]
        }
      ]
    },
    {
      "cell_type": "code",
      "source": [
        "# Congelando as camadas do modelo pré-treinado\n",
        "for param in model_resnet.parameters():\n",
        "    param.requires_grad = False\n",
        "\n",
        "# Substituindo a camada final para se ajustar ao número de classes do dataset\n",
        "num_classes = 2\n",
        "model_resnet.fc = torch.nn.Linear(model_resnet.fc.in_features, num_classes)"
      ],
      "metadata": {
        "id": "xBMJYtPBBLF2"
      },
      "execution_count": null,
      "outputs": []
    },
    {
      "cell_type": "code",
      "source": [
        "# Configuração do dispositivo (GPU ou CPU)\n",
        "device = torch.device(\"cuda\" if torch.cuda.is_available() else \"cpu\")\n",
        "model_resnet = model_resnet.to(device)"
      ],
      "metadata": {
        "id": "KtqPSzxhBOXC"
      },
      "execution_count": null,
      "outputs": []
    },
    {
      "cell_type": "markdown",
      "source": [
        "### Modelo CNN"
      ],
      "metadata": {
        "id": "SkczEcglFgeB"
      }
    },
    {
      "cell_type": "code",
      "source": [
        "class CNN(nn.Module):\n",
        "    def __init__(self):\n",
        "        super(CNN, self).__init__()\n",
        "        self.conv1 = nn.Conv2d(3, 6, 5)  # Alterado para 3 canais de entrada (RGB)\n",
        "        self.conv2 = nn.Conv2d(6, 12, 5)\n",
        "        self.fc1 = nn.Linear(12 * 29 * 29, 64)  # Ajustado para tamanhos de entrada 128x128\n",
        "        self.fc2 = nn.Linear(64, num_classes)\n",
        "\n",
        "    def forward(self, x):\n",
        "        # CNN\n",
        "        x = F.relu(self.conv1(x))\n",
        "        x = F.max_pool2d(x, 2, 2)\n",
        "        x = F.relu(self.conv2(x))\n",
        "        x = F.max_pool2d(x, 2, 2)\n",
        "\n",
        "        # Flatten\n",
        "        x = x.view(-1, 12 * 29 * 29)\n",
        "        x = F.relu(self.fc1(x))\n",
        "        x = self.fc2(x)\n",
        "\n",
        "        return x\n",
        "\n",
        "model_cnn = CNN().to(device)"
      ],
      "metadata": {
        "id": "EG-i3kd4Fqsz"
      },
      "execution_count": null,
      "outputs": []
    },
    {
      "cell_type": "markdown",
      "source": [
        "## 2. Treinamento"
      ],
      "metadata": {
        "id": "GWit_4XCGInM"
      }
    },
    {
      "cell_type": "code",
      "source": [
        "import torch.optim as optim\n",
        "\n",
        "criterion = torch.nn.CrossEntropyLoss()\n",
        "optimizer_resnet = optim.SGD(model_resnet.fc.parameters(), lr=0.001, momentum=0.9)\n",
        "optimizer_cnn = optim.SGD(model_cnn.parameters(), lr=0.001, momentum=0.9)"
      ],
      "metadata": {
        "id": "9t3jeF8LBTLY"
      },
      "execution_count": null,
      "outputs": []
    },
    {
      "cell_type": "code",
      "source": [
        "def treinar_modelo(model, train_loader, val_loader, criterion, optimizer, epochs=10):\n",
        "    model.train()\n",
        "    for epoch in range(epochs):\n",
        "        running_loss = 0.0\n",
        "        for inputs, labels in train_loader:\n",
        "            inputs, labels = inputs.to(device), labels.to(device)\n",
        "\n",
        "            optimizer.zero_grad()\n",
        "            outputs = model(inputs)\n",
        "            loss = criterion(outputs, labels)\n",
        "            loss.backward()\n",
        "            optimizer.step()\n",
        "\n",
        "            running_loss += loss.item()\n",
        "        if (epoch % 10) == 0:\n",
        "          print(f\"Epoch {epoch+1}/{epochs}, Loss: {running_loss/len(train_loader):.4f}\")\n",
        "\n",
        "    print(\"Treinamento concluído!\")"
      ],
      "metadata": {
        "id": "9bhgsHQ2BX-t"
      },
      "execution_count": null,
      "outputs": []
    },
    {
      "cell_type": "code",
      "source": [
        "def validar_modelo(model, val_loader):\n",
        "    model.eval()\n",
        "    test_loss = 0\n",
        "    correct = 0\n",
        "    total = 0\n",
        "    with torch.no_grad():\n",
        "        for inputs, labels in val_loader:\n",
        "            inputs, labels = inputs.to(device), labels.to(device)\n",
        "            outputs = model(inputs)\n",
        "            test_loss += criterion(outputs, labels).item()\n",
        "            _, predicted = torch.max(outputs, 1)\n",
        "            total += labels.size(0)\n",
        "            correct += (predicted == labels).sum().item()\n",
        "\n",
        "    test_loss /= total\n",
        "    accuracy = 100 * correct / total\n",
        "    print('\\nConjunto de Validação: Loss médio: {:.4f}, Acurácia: {}/{} ({:.0f}%)\\n'.format(\n",
        "        test_loss, correct, total, accuracy))"
      ],
      "metadata": {
        "id": "2UQMDJ8iDDNG"
      },
      "execution_count": null,
      "outputs": []
    },
    {
      "cell_type": "code",
      "source": [
        "# Treinamento Resnet18\n",
        "print(\"Treinando o modelo ResNet18...\")\n",
        "treinar_modelo(model_resnet, train_loader, val_loader, criterion, optimizer_resnet, 50)\n",
        "print(\"Validando o modelo ResNet18...\")\n",
        "validar_modelo(model_resnet, val_loader)"
      ],
      "metadata": {
        "id": "OeCiJcVjDFAj",
        "outputId": "3cefcf6b-ce86-45af-e3eb-c0ce19ed7af7",
        "colab": {
          "base_uri": "https://localhost:8080/"
        }
      },
      "execution_count": null,
      "outputs": [
        {
          "output_type": "stream",
          "name": "stdout",
          "text": [
            "Treinando o modelo ResNet18...\n",
            "Epoch 1/50, Loss: 0.7262\n",
            "Epoch 2/50, Loss: 0.5840\n",
            "Epoch 3/50, Loss: 0.4451\n",
            "Epoch 4/50, Loss: 0.3605\n",
            "Epoch 5/50, Loss: 0.3105\n",
            "Epoch 6/50, Loss: 0.2751\n",
            "Epoch 7/50, Loss: 0.2399\n",
            "Epoch 8/50, Loss: 0.2116\n",
            "Epoch 9/50, Loss: 0.1994\n",
            "Epoch 10/50, Loss: 0.2642\n",
            "Epoch 11/50, Loss: 0.1869\n",
            "Epoch 12/50, Loss: 0.1845\n",
            "Epoch 13/50, Loss: 0.1809\n",
            "Epoch 14/50, Loss: 0.2099\n",
            "Epoch 15/50, Loss: 0.1584\n",
            "Epoch 16/50, Loss: 0.1597\n",
            "Epoch 17/50, Loss: 0.1602\n",
            "Epoch 18/50, Loss: 0.1511\n",
            "Epoch 19/50, Loss: 0.1435\n",
            "Epoch 20/50, Loss: 0.1444\n",
            "Epoch 21/50, Loss: 0.1297\n",
            "Epoch 22/50, Loss: 0.1319\n",
            "Epoch 23/50, Loss: 0.1368\n",
            "Epoch 24/50, Loss: 0.1352\n",
            "Epoch 25/50, Loss: 0.1357\n",
            "Epoch 26/50, Loss: 0.2216\n",
            "Epoch 27/50, Loss: 0.1355\n",
            "Epoch 28/50, Loss: 0.1182\n",
            "Epoch 29/50, Loss: 0.1032\n",
            "Epoch 30/50, Loss: 0.1079\n",
            "Epoch 31/50, Loss: 0.1390\n",
            "Epoch 32/50, Loss: 0.1129\n",
            "Epoch 33/50, Loss: 0.1013\n",
            "Epoch 34/50, Loss: 0.0957\n",
            "Epoch 35/50, Loss: 0.1213\n",
            "Epoch 36/50, Loss: 0.0938\n",
            "Epoch 37/50, Loss: 0.0857\n",
            "Epoch 38/50, Loss: 0.1096\n",
            "Epoch 39/50, Loss: 0.1152\n",
            "Epoch 40/50, Loss: 0.1044\n",
            "Epoch 41/50, Loss: 0.0841\n",
            "Epoch 42/50, Loss: 0.1066\n",
            "Epoch 43/50, Loss: 0.1143\n",
            "Epoch 44/50, Loss: 0.0993\n",
            "Epoch 45/50, Loss: 0.0860\n",
            "Epoch 46/50, Loss: 0.0735\n",
            "Epoch 47/50, Loss: 0.0809\n",
            "Epoch 48/50, Loss: 0.0713\n",
            "Epoch 49/50, Loss: 0.0678\n",
            "Epoch 50/50, Loss: 0.0823\n",
            "Treinamento concluído!\n",
            "Validando o modelo ResNet18...\n",
            "\n",
            "Conjunto de Validação: Loss médio: 0.0184, Acurácia: 44/54 (81%)\n",
            "\n"
          ]
        }
      ]
    },
    {
      "cell_type": "code",
      "source": [
        "# Treinando e validando o modelo CNN personalizado\n",
        "print(\"Treinando o modelo CNN personalizado...\")\n",
        "treinar_modelo(model_cnn, train_loader, val_loader, criterion, optimizer_cnn,100)\n",
        "print(\"Validando o modelo CNN personalizado...\")\n",
        "validar_modelo(model_cnn, val_loader)"
      ],
      "metadata": {
        "id": "hcx0uo7ZDnlc",
        "outputId": "8376d321-96c8-4494-c5b3-c0ee0dabddf1",
        "colab": {
          "base_uri": "https://localhost:8080/"
        }
      },
      "execution_count": null,
      "outputs": [
        {
          "output_type": "stream",
          "name": "stdout",
          "text": [
            "Treinando o modelo CNN personalizado...\n",
            "Epoch 1/100, Loss: 0.0022\n",
            "Epoch 11/100, Loss: 0.0019\n",
            "Epoch 21/100, Loss: 0.0016\n",
            "Epoch 31/100, Loss: 0.0013\n",
            "Epoch 41/100, Loss: 0.0012\n",
            "Epoch 51/100, Loss: 0.0011\n",
            "Epoch 61/100, Loss: 0.0010\n",
            "Epoch 71/100, Loss: 0.0009\n",
            "Epoch 81/100, Loss: 0.0008\n",
            "Epoch 91/100, Loss: 0.0007\n",
            "Treinamento concluído!\n",
            "Validando o modelo CNN personalizado...\n",
            "\n",
            "Conjunto de Validação: Loss médio: 0.0387, Acurácia: 41/54 (76%)\n",
            "\n"
          ]
        }
      ]
    }
  ]
}